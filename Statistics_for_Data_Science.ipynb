{
  "nbformat": 4,
  "nbformat_minor": 0,
  "metadata": {
    "colab": {
      "name": "Statistics for Data Science",
      "provenance": []
    },
    "kernelspec": {
      "name": "python3",
      "display_name": "Python 3"
    },
    "language_info": {
      "name": "python"
    }
  },
  "cells": [
    {
      "cell_type": "code",
      "metadata": {
        "id": "vgBguMfWpw8a"
      },
      "source": [
        "import statistics                                                                                          "
      ],
      "execution_count": null,
      "outputs": []
    },
    {
      "cell_type": "markdown",
      "metadata": {
        "id": "QqmA3GP4LY_u"
      },
      "source": [
        "**Measures of Central Tendency**"
      ]
    },
    {
      "cell_type": "code",
      "metadata": {
        "colab": {
          "base_uri": "https://localhost:8080/"
        },
        "id": "HKsnT5ZarLmx",
        "outputId": "dc1a335d-730c-414c-9fb0-0da8677506a0"
      },
      "source": [
        "statistics.mean([1,2,3,4,4])"
      ],
      "execution_count": null,
      "outputs": [
        {
          "output_type": "execute_result",
          "data": {
            "text/plain": [
              "2.8"
            ]
          },
          "metadata": {
            "tags": []
          },
          "execution_count": 3
        }
      ]
    },
    {
      "cell_type": "code",
      "metadata": {
        "colab": {
          "base_uri": "https://localhost:8080/"
        },
        "id": "01N9yWRxsxPP",
        "outputId": "5172e1dd-d7b0-4bcd-a19d-9858de1622a8"
      },
      "source": [
        "statistics.median([1,3,5])"
      ],
      "execution_count": null,
      "outputs": [
        {
          "output_type": "execute_result",
          "data": {
            "text/plain": [
              "3"
            ]
          },
          "metadata": {
            "tags": []
          },
          "execution_count": 4
        }
      ]
    },
    {
      "cell_type": "code",
      "metadata": {
        "colab": {
          "base_uri": "https://localhost:8080/"
        },
        "id": "agDDPJHXs60F",
        "outputId": "894285db-f4db-4a69-b1a0-9d561db36040"
      },
      "source": [
        "statistics.median([1,3,5,7])"
      ],
      "execution_count": null,
      "outputs": [
        {
          "output_type": "execute_result",
          "data": {
            "text/plain": [
              "4.0"
            ]
          },
          "metadata": {
            "tags": []
          },
          "execution_count": 5
        }
      ]
    },
    {
      "cell_type": "code",
      "metadata": {
        "colab": {
          "base_uri": "https://localhost:8080/"
        },
        "id": "DBw_mlvutHxS",
        "outputId": "b34a262e-8f14-4bb7-f8c5-f033ba2656ff"
      },
      "source": [
        "statistics.mode([1,1,2,3,3,3,3,4])"
      ],
      "execution_count": null,
      "outputs": [
        {
          "output_type": "execute_result",
          "data": {
            "text/plain": [
              "3"
            ]
          },
          "metadata": {
            "tags": []
          },
          "execution_count": 6
        }
      ]
    },
    {
      "cell_type": "code",
      "metadata": {
        "colab": {
          "base_uri": "https://localhost:8080/",
          "height": 36
        },
        "id": "HcL3y7aau49I",
        "outputId": "f3a57971-a068-42af-d7d1-3eeaa8243d2f"
      },
      "source": [
        "statistics.mode([\"red\",\"blue\",\"red\",\"red\"])"
      ],
      "execution_count": null,
      "outputs": [
        {
          "output_type": "execute_result",
          "data": {
            "application/vnd.google.colaboratory.intrinsic+json": {
              "type": "string"
            },
            "text/plain": [
              "'red'"
            ]
          },
          "metadata": {
            "tags": []
          },
          "execution_count": 7
        }
      ]
    },
    {
      "cell_type": "markdown",
      "metadata": {
        "id": "jbkjR0OWLt7l"
      },
      "source": [
        "**Skewness & Kurtosis**"
      ]
    },
    {
      "cell_type": "code",
      "metadata": {
        "colab": {
          "base_uri": "https://localhost:8080/",
          "height": 300
        },
        "id": "jnBeyUhey9ws",
        "outputId": "0f177980-6153-4888-fce6-8e7193b749c0"
      },
      "source": [
        "import numpy as np\n",
        "from scipy.stats import kurtosis\n",
        "from scipy.stats import skew \n",
        "import matplotlib.pyplot as plt\n",
        "plt.style.use('ggplot') \n",
        "data = np.random.normal(-5, 5, 100000) \n",
        "plt.hist(data, bins=60) \n",
        "print(\"skew : \",skew(data))\n",
        "print(\"kurt : \",kurtosis(data)) "
      ],
      "execution_count": null,
      "outputs": [
        {
          "output_type": "stream",
          "text": [
            "skew :  -0.005168246772588942\n",
            "kurt :  0.010248125871068048\n"
          ],
          "name": "stdout"
        },
        {
          "output_type": "display_data",
          "data": {
            "image/png": "[encoded data removed]",
            "text/plain": [
              "<Figure size 432x288 with 1 Axes>"
            ]
          },
          "metadata": {
            "tags": []
          }
        }
      ]
    },
    {
      "cell_type": "markdown",
      "metadata": {
        "id": "GA1f3cW7Lz3o"
      },
      "source": [
        "**Measures of Dispersion**"
      ]
    },
    {
      "cell_type": "code",
      "metadata": {
        "colab": {
          "base_uri": "https://localhost:8080/"
        },
        "id": "_2w9Tkki4Bo_",
        "outputId": "aae1bfc6-a686-413f-c0cc-f7b592f1612d"
      },
      "source": [
        "data=[1,2,3,4,5,7,9]\n",
        "#sample variance\n",
        "statistics.variance(data)"
      ],
      "execution_count": null,
      "outputs": [
        {
          "output_type": "execute_result",
          "data": {
            "text/plain": [
              "7.9523809523809526"
            ]
          },
          "metadata": {
            "tags": []
          },
          "execution_count": 11
        }
      ]
    },
    {
      "cell_type": "code",
      "metadata": {
        "colab": {
          "base_uri": "https://localhost:8080/"
        },
        "id": "Vh8SKyib4Wz1",
        "outputId": "12fc70af-eb64-4887-8206-ea7bf16483b3"
      },
      "source": [
        "#population variance\n",
        "statistics.pvariance(data)"
      ],
      "execution_count": null,
      "outputs": [
        {
          "output_type": "execute_result",
          "data": {
            "text/plain": [
              "6.816326530612245"
            ]
          },
          "metadata": {
            "tags": []
          },
          "execution_count": 12
        }
      ]
    },
    {
      "cell_type": "code",
      "metadata": {
        "colab": {
          "base_uri": "https://localhost:8080/"
        },
        "id": "bp7NrRF44fvr",
        "outputId": "298280e9-f3be-4e50-8072-768ad55e881c"
      },
      "source": [
        "#square root of sample variance\n",
        "statistics.stdev(data)"
      ],
      "execution_count": null,
      "outputs": [
        {
          "output_type": "execute_result",
          "data": {
            "text/plain": [
              "2.819996622760558"
            ]
          },
          "metadata": {
            "tags": []
          },
          "execution_count": 13
        }
      ]
    },
    {
      "cell_type": "code",
      "metadata": {
        "colab": {
          "base_uri": "https://localhost:8080/"
        },
        "id": "5ndVAXVL4jwG",
        "outputId": "a3d7b999-80f7-448e-abef-aa05e9056005"
      },
      "source": [
        "#square root of population variance\n",
        "statistics.pstdev(data)"
      ],
      "execution_count": null,
      "outputs": [
        {
          "output_type": "execute_result",
          "data": {
            "text/plain": [
              "2.610809554642438"
            ]
          },
          "metadata": {
            "tags": []
          },
          "execution_count": 14
        }
      ]
    },
    {
      "cell_type": "markdown",
      "metadata": {
        "id": "-COqGfrgL7PW"
      },
      "source": [
        "**Covariance**"
      ]
    },
    {
      "cell_type": "code",
      "metadata": {
        "colab": {
          "base_uri": "https://localhost:8080/",
          "height": 336
        },
        "id": "KWn0pi4xRaej",
        "outputId": "33f62ba5-5877-4dfe-a22f-296953e90538"
      },
      "source": [
        "import pandas as pd\n",
        "import seaborn as sns\n",
        "import matplotlib.pyplot as plt\n",
        "\n",
        "data = {'A': [55,47,52,45,49],\n",
        "        'B': [48,41,36,38,23],\n",
        "        'C': [20,25,27,31,22]\n",
        "        }\n",
        "\n",
        "df = pd.DataFrame(data,columns=['A','B','C'])\n",
        "\n",
        "covmtrx = pd.DataFrame.cov(df)\n",
        "print (covmtrx) \n",
        "sns.heatmap(covmtrx, annot=True, fmt='g')\n",
        "plt.show()"
      ],
      "execution_count": 1,
      "outputs": [
        {
          "output_type": "stream",
          "text": [
            "      A      B      C\n",
            "A  15.8  12.60 -12.00\n",
            "B  12.6  83.70  -2.25\n",
            "C -12.0  -2.25  18.50\n"
          ],
          "name": "stdout"
        },
        {
          "output_type": "display_data",
          "data": {
            "image/png": "[encoded data removed]",
            "text/plain": [
              "<Figure size 432x288 with 2 Axes>"
            ]
          },
          "metadata": {
            "tags": [],
            "needs_background": "light"
          }
        }
      ]
    },
    {
      "cell_type": "markdown",
      "metadata": {
        "id": "kZlc5GlnMEgR"
      },
      "source": [
        "**Correlation**"
      ]
    },
    {
      "cell_type": "code",
      "metadata": {
        "colab": {
          "base_uri": "https://localhost:8080/",
          "height": 340
        },
        "id": "H89TV1FrYAFV",
        "outputId": "5b25ec5e-b7b7-4e3c-cf67-e3164fe82fe7"
      },
      "source": [
        "corrmtrx = pd.DataFrame.corr(df)\n",
        "print (corrmtrx) \n",
        "sns.heatmap(corrmtrx, annot=True, fmt='g')\n",
        "plt.show()"
      ],
      "execution_count": 2,
      "outputs": [
        {
          "output_type": "stream",
          "text": [
            "          A         B         C\n",
            "A  1.000000  0.346481 -0.701886\n",
            "B  0.346481  1.000000 -0.057179\n",
            "C -0.701886 -0.057179  1.000000\n"
          ],
          "name": "stdout"
        },
        {
          "output_type": "display_data",
          "data": {
            "image/png": "[encoded data removed]",
            "text/plain": [
              "<Figure size 432x288 with 2 Axes>"
            ]
          },
          "metadata": {
            "tags": [],
            "needs_background": "light"
          }
        }
      ]
    },
    {
      "cell_type": "markdown",
      "metadata": {
        "id": "eDLb7JVJMKCk"
      },
      "source": [
        "**Linear Regression**"
      ]
    },
    {
      "cell_type": "code",
      "metadata": {
        "colab": {
          "base_uri": "https://localhost:8080/",
          "height": 332
        },
        "id": "u9XQr9Bq0vM1",
        "outputId": "e35dbd25-f7c4-44ef-e56e-2507d127585a"
      },
      "source": [
        "import numpy as np\n",
        "import matplotlib.pyplot as plt\n",
        "#sample dataset \n",
        "x = np.array([0, 1, 2, 3, 4, 5, 6, 7, 8, 9, 10])\n",
        "y = np.array([1, 3, 2, 5, 7, 8, 8, 9, 10, 12,14]) \n",
        "n = np.size(x) \n",
        "mx = np.mean(x)\n",
        "my = np.mean(y)\n",
        "# cross-deviation and deviation about x\n",
        "SSxy = np.sum(y*x) - n*my*mx\n",
        "SSxx = np.sum(x*x) - n*mx*mx \n",
        "# estimating regression coefficients\n",
        "b1 = SSxy/SSxx\n",
        "b0 = my - b1*mx \n",
        "print(\"Estimated coefficients:\\nb_0 = {} \\\n",
        "\t\t\\nb_1 = {}\".format(b0, b1)) \n",
        "plt.scatter(x, y)\n",
        "y_pred = b0 + b1*x\n",
        "# plotting the regression line\n",
        "plt.plot(x, y_pred, color = \"r\")\n",
        "plt.xlabel('x')\n",
        "plt.ylabel('y')\n",
        "plt.show() "
      ],
      "execution_count": 17,
      "outputs": [
        {
          "output_type": "stream",
          "text": [
            "Estimated coefficients:\n",
            "b_0 = 1.09090909090909 \t\t\n",
            "b_1 = 1.2181818181818183\n"
          ],
          "name": "stdout"
        },
        {
          "output_type": "display_data",
          "data": {
            "image/png": "[encoded data removed]",
            "text/plain": [
              "<Figure size 432x288 with 1 Axes>"
            ]
          },
          "metadata": {
            "tags": [],
            "needs_background": "light"
          }
        }
      ]
    }
  ]
}